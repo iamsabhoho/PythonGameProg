{
 "cells": [
  {
   "cell_type": "code",
   "execution_count": 44,
   "metadata": {
    "collapsed": false
   },
   "outputs": [
    {
     "name": "stdout",
     "output_type": "stream",
     "text": [
      "Enter the name of the planet(Mercury, Venus, Mars, Jupiter, Saturn, Uranus, Neptune)= Mercury\n",
      "The distance of this planet to the earth is: 0.8089999999999999.\n",
      "The size of this planet respect to the earth is: 0.016409336205.\n"
     ]
    }
   ],
   "source": [
    "'''This program show s the size and distances of the planes in hte solar system with reference to the earth\n",
    "    User enters the planet name.\n",
    "'''\n",
    "import math\n",
    "\n",
    "planetinfo = ['Mercury', 'Venus', 'Earth', 'Mars', 'Jupiter', 'Saturn', 'Uranus', 'Neptune']\n",
    "diameter = [0.382, 0.949, 1, 0.532, 11.209, 9.44, 4.007, 3.883]\n",
    "distance_from_sun =[0.39, 0.72, 1, 1.52, 5.20, 9.54, 19.18, 30.06]\n",
    "\n",
    "planet = input('Enter the name of the planet(Mercury, Venus, Mars, Jupiter, Saturn, Uranus, Neptune)= ')    \n",
    "\n",
    "if  planet == 'Mercury':\n",
    "    idx = planetinfo.index('Mercury')\n",
    "    distance = float(math.sqrt(pow((1.00 - diameter[idx]*0.5),2)))\n",
    "    print('The distance of this planet to the earth is: ' + str(distance) + '.')\n",
    "    size = float((3/4)*3.14*pow((diameter[idx]*0.5),3))\n",
    "    print('The size of this planet respect to the earth is: ' + str(size) + '.')\n",
    "elif  planet == 'Mercury':\n",
    "    idx = planetinfo.index('Mercury')\n",
    "    distance = float(math.sqrt(pow((1.00 - diameter[idx]*0.5),2)))\n",
    "    print('The distance of this planet to the earth is: ' + str(distance) + '.')\n",
    "    size = float((3/4)*3.14*pow((diameter[idx]*0.5),3))\n",
    "    print('The size of this planet respect to the earth is: ' + str(size) + '.')\n",
    "else:\n",
    "    print('This is not a planet')"
   ]
  },
  {
   "cell_type": "raw",
   "metadata": {},
   "source": [
    "Mercury"
   ]
  }
 ],
 "metadata": {
  "kernelspec": {
   "display_name": "Python [Root]",
   "language": "python",
   "name": "Python [Root]"
  },
  "language_info": {
   "codemirror_mode": {
    "name": "ipython",
    "version": 3
   },
   "file_extension": ".py",
   "mimetype": "text/x-python",
   "name": "python",
   "nbconvert_exporter": "python",
   "pygments_lexer": "ipython3",
   "version": "3.5.2"
  }
 },
 "nbformat": 4,
 "nbformat_minor": 0
}
