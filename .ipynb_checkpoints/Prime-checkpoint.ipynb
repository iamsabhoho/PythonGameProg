{
 "cells": [
  {
   "cell_type": "code",
   "execution_count": 2,
   "metadata": {
    "collapsed": false
   },
   "outputs": [
    {
     "name": "stdout",
     "output_type": "stream",
     "text": [
      "3\n",
      "5\n",
      "7\n",
      "9\n",
      "11\n",
      "13\n",
      "15\n",
      "17\n",
      "19\n",
      "21\n",
      "23\n",
      "25\n",
      "27\n",
      "29\n",
      "31\n",
      "33\n",
      "35\n",
      "37\n",
      "39\n",
      "41\n",
      "43\n",
      "45\n",
      "47\n",
      "49\n",
      "51\n",
      "53\n",
      "55\n",
      "57\n",
      "59\n",
      "61\n",
      "63\n",
      "65\n",
      "67\n",
      "69\n",
      "71\n",
      "73\n",
      "75\n",
      "77\n",
      "79\n",
      "81\n",
      "83\n",
      "85\n",
      "87\n",
      "89\n",
      "91\n",
      "93\n",
      "95\n",
      "97\n",
      "99\n"
     ]
    },
    {
     "data": {
      "text/plain": [
       "'\\nwhile p > 1:\\n    for i in range(2,x):\\n        if n%x == 0:\\n            n = n/x;\\n            print(x)\\n            break\\n        print(\" \")\\n'"
      ]
     },
     "execution_count": 2,
     "metadata": {},
     "output_type": "execute_result"
    }
   ],
   "source": [
    "#Make a program in Python using the for statement that prints the first nth prime numbers, \n",
    "#where the user enters the number n\n",
    "\n",
    "#n = int(input('Please enter a number: '))\n",
    "\n",
    "\n",
    "for n in range(1,100):\n",
    "    for i in range(2,n):\n",
    "        if (n%i==0):\n",
    "            break\n",
    "        print(i)\n",
    "\n",
    "\n",
    "\n",
    "'''\n",
    "while p > 1:\n",
    "    for i in range(2,x):\n",
    "        if n%x == 0:\n",
    "            n = n/x;\n",
    "            print(x)\n",
    "            break\n",
    "        print(\" \")\n",
    "'''\n",
    " \n",
    "    "
   ]
  },
  {
   "cell_type": "code",
   "execution_count": null,
   "metadata": {
    "collapsed": true
   },
   "outputs": [],
   "source": []
  }
 ],
 "metadata": {
  "anaconda-cloud": {},
  "kernelspec": {
   "display_name": "Python [Root]",
   "language": "python",
   "name": "Python [Root]"
  },
  "language_info": {
   "codemirror_mode": {
    "name": "ipython",
    "version": 3
   },
   "file_extension": ".py",
   "mimetype": "text/x-python",
   "name": "python",
   "nbconvert_exporter": "python",
   "pygments_lexer": "ipython3",
   "version": "3.5.2"
  }
 },
 "nbformat": 4,
 "nbformat_minor": 0
}
