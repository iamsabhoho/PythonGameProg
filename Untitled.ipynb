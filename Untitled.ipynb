{
 "cells": [
  {
   "cell_type": "code",
   "execution_count": null,
   "metadata": {
    "collapsed": false
   },
   "outputs": [
    {
     "name": "stdout",
     "output_type": "stream",
     "text": [
      "Please enter your value(0 - 100). Any character to exit: \n",
      "5\n",
      "<class 'str'>\n",
      "Please enter your value(0 - 100). Any character to exit: \n"
     ]
    }
   ],
   "source": [
    "vinput = 1\n",
    "vAcc = 0\n",
    "iter = 0\n",
    "\n",
    "while True:\n",
    "    print('Please enter your value(0 - 100). Any character to exit: ')\n",
    "    vinput = raw_input()\n",
    "    print(type(vinput))\n",
    "    if isinstance(vinput, int) == True:\n",
    "        if 0 <= vinput <= 100:\n",
    "            vAcc += vinput\n",
    "            iter +=1\n",
    "            print(str(vAcc) + (' ') + str(iter))\n",
    "            continue\n",
    "        else:\n",
    "            continue\n",
    "\n",
    "print('Final: ' + str(vAcc) + (' ') + str(iter))"
   ]
  },
  {
   "cell_type": "code",
   "execution_count": null,
   "metadata": {
    "collapsed": true
   },
   "outputs": [],
   "source": []
  }
 ],
 "metadata": {
  "anaconda-cloud": {},
  "kernelspec": {
   "display_name": "Python [Root]",
   "language": "python",
   "name": "Python [Root]"
  },
  "language_info": {
   "codemirror_mode": {
    "name": "ipython",
    "version": 3
   },
   "file_extension": ".py",
   "mimetype": "text/x-python",
   "name": "python",
   "nbconvert_exporter": "python",
   "pygments_lexer": "ipython3",
   "version": "3.5.2"
  }
 },
 "nbformat": 4,
 "nbformat_minor": 0
}
