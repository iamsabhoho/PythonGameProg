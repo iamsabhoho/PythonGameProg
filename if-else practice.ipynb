{
 "cells": [
  {
   "cell_type": "code",
   "execution_count": 4,
   "metadata": {
    "collapsed": false
   },
   "outputs": [
    {
     "name": "stdout",
     "output_type": "stream",
     "text": [
      "Please enter a number1000\n",
      "Food: \n",
      "Foodie\n"
     ]
    }
   ],
   "source": [
    "x = int(input('Please enter a number'))\n",
    "\n",
    "if x >= 500:\n",
    "    print('Food: ')\n",
    "    if x <= 750:\n",
    "        print('Chocolate')\n",
    "else:\n",
    "    print('Eggs')\n",
    "print('Foodie')"
   ]
  }
 ],
 "metadata": {
  "kernelspec": {
   "display_name": "Python [Root]",
   "language": "python",
   "name": "Python [Root]"
  },
  "language_info": {
   "codemirror_mode": {
    "name": "ipython",
    "version": 3
   },
   "file_extension": ".py",
   "mimetype": "text/x-python",
   "name": "python",
   "nbconvert_exporter": "python",
   "pygments_lexer": "ipython3",
   "version": "3.5.2"
  }
 },
 "nbformat": 4,
 "nbformat_minor": 0
}
